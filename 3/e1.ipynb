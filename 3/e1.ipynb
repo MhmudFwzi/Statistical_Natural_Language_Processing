{
 "cells": [
  {
   "cell_type": "code",
   "execution_count": 1,
   "metadata": {},
   "outputs": [
    {
     "name": "stdout",
     "output_type": "stream",
     "text": [
      "showing info https://raw.githubusercontent.com/nltk/nltk_data/gh-pages/index.xml\n"
     ]
    },
    {
     "data": {
      "text/plain": [
       "True"
      ]
     },
     "execution_count": 1,
     "metadata": {},
     "output_type": "execute_result"
    }
   ],
   "source": [
    "import nltk\n",
    "nltk.download()"
   ]
  },
  {
   "cell_type": "code",
   "execution_count": 89,
   "metadata": {},
   "outputs": [],
   "source": [
    "from __future__ import division\n",
    "import os,shutil,glob,re\n",
    "import string\n",
    "from collections import Counter\n",
    "import numpy as np\n",
    "import matplotlib.pyplot as plt\n"
   ]
  },
  {
   "cell_type": "code",
   "execution_count": 1,
   "metadata": {},
   "outputs": [],
   "source": [
    "rootdir = './brown'\n",
    "os.chdir(rootdir)\n",
    "outfilename = \"brown.txt\"\n",
    "prevdir = '../'\n",
    "with open(prevdir+outfilename, 'wb') as outfile:\n",
    "    for filename in glob.glob('*'):\n",
    "        if filename == outfilename:\n",
    "            continue\n",
    "        with open(filename, 'rb') as readfile:\n",
    "            shutil.copyfileobj(readfile, outfile)\n",
    "os.chdir(prevdir)"
   ]
  },
  {
   "cell_type": "code",
   "execution_count": 111,
   "metadata": {},
   "outputs": [],
   "source": [
    "def data_cleaning(file_name):\n",
    "    file = open(file_name,\"r\",encoding='utf-8')\n",
    "    text= file.read()\n",
    "    file.close()\n",
    "    words_list = text.split()\n",
    "    tokenized_words = [w.split('/')[0] for w in words_list]\n",
    "    clean_words_list = [word.lower() for word in tokenized_words]\n",
    "    return clean_words_list"
   ]
  },
  {
   "cell_type": "code",
   "execution_count": 112,
   "metadata": {},
   "outputs": [],
   "source": [
    "clean_words = data_cleaning('brown.txt')\n",
    "clean_words_set = set(clean_words) \n",
    "unique_clean_words = (list(clean_words_set))\n",
    "counter_pairs = Counter(zip(clean_words, clean_words[1:]))\n",
    "counter_pairs = dict(counter_pairs)\n",
    "freq_the = counts['the']\n",
    "freq_in = counts['in']"
   ]
  },
  {
   "cell_type": "code",
   "execution_count": 113,
   "metadata": {},
   "outputs": [],
   "source": [
    "dict_the_freq = {}\n",
    "dict_in_freq = {}\n",
    "for k,v in counter_pairs.items():\n",
    "    if(k[0]=='the'):\n",
    "        dict_the_freq[k[1]]=v\n",
    "    if(k[0]=='in'):\n",
    "        dict_in_freq[k[1]]=v\n",
    "absent_word_dict_the_freq = np.setdiff1d(unique_clean_words,list(dict_the_freq.keys()))\n",
    "absent_word_dict_in_freq = np.setdiff1d(unique_clean_words,list(dict_in_freq.keys()))\n",
    "dict_the_freq.update(dict((el,0) for el in absent_word_dict_the_freq))\n",
    "dict_in_freq.update(dict((el,0) for el in absent_word_dict_in_freq))\n",
    "\n",
    "        \n",
    "        \n"
   ]
  },
  {
   "cell_type": "markdown",
   "metadata": {},
   "source": [
    "### Conditional Probability Distribution"
   ]
  },
  {
   "cell_type": "code",
   "execution_count": 114,
   "metadata": {},
   "outputs": [],
   "source": [
    "dict_the_prob = {}\n",
    "dict_in_prob = {}\n",
    "dict_the_prob = {k: v / freq_the for k, v in dict_the_freq.items()}\n",
    "dict_in_prob = {k: v / freq_in for k, v in dict_in_freq.items()}\n"
   ]
  },
  {
   "cell_type": "markdown",
   "metadata": {},
   "source": [
    "### Frequency Distribution"
   ]
  },
  {
   "cell_type": "code",
   "execution_count": 119,
   "metadata": {},
   "outputs": [
    {
     "data": {
      "image/png": "[encoded data removed]",
      "text/plain": [
       "<Figure size 432x288 with 1 Axes>"
      ]
     },
     "metadata": {
      "needs_background": "light"
     },
     "output_type": "display_data"
    },
    {
     "data": {
      "image/png": "[encoded data removed]",
      "text/plain": [
       "<Figure size 432x288 with 1 Axes>"
      ]
     },
     "metadata": {
      "needs_background": "light"
     },
     "output_type": "display_data"
    },
    {
     "name": "stdout",
     "output_type": "stream",
     "text": [
      "Top 20 words in \"THE\" distribution along with their frequency count\n",
      "\n",
      "\n",
      "{'first': 662, 'same': 628, 'new': 432, 'most': 417, 'other': 416, '``': 405, 'united': 395, 'world': 368, 'state': 272, 'two': 268, 'only': 258, 'time': 251, 'way': 240, 'old': 236, 'last': 223, 'house': 217, 'next': 210, 'end': 206, 'fact': 194, 'whole': 190}\n",
      "\n",
      "\n",
      "Top 20 words in \"IN\" distribution along with their frequency count\n",
      "\n",
      "\n",
      "{'the': 6044, 'a': 1420, 'his': 623, 'this': 541, 'which': 378, 'their': 257, 'an': 232, 'its': 176, 'fact': 154, 'her': 153, 'order': 151, 'that': 141, 'all': 137, 'any': 131, 'my': 128, 'some': 125, 'our': 123, 'addition': 121, 'one': 107, 'front': 101}\n"
     ]
    }
   ],
   "source": [
    "from operator import itemgetter\n",
    "top_20_the = dict(sorted(dict_the_freq.items(), key = itemgetter(1), reverse = True)[:20])\n",
    "top_20_in = dict(sorted(dict_in_freq.items(), key = itemgetter(1), reverse = True)[:20])\n",
    "\n",
    "plt.plot(list(top_20_the.keys()), list(top_20_the.values()),linewidth=4)\n",
    "plt.title(\"Frequency Distribution of THE\")\n",
    "plt.show()\n",
    "\n",
    "plt.plot(list(top_20_in.keys()), list(top_20_in.values()),linewidth=4)\n",
    "plt.title(\"Frequency Distribution of IN\")\n",
    "plt.show()\n",
    "\n",
    "print(\"Top 20 words in \\\"THE\\\" distribution along with their frequency count\\n\\n\")\n",
    "print(top_20_the)\n",
    "print(\"\\n\\nTop 20 words in \\\"IN\\\" distribution along with their frequency count\\n\\n\")\n",
    "print(top_20_in)"
   ]
  },
  {
   "cell_type": "code",
   "execution_count": 116,
   "metadata": {},
   "outputs": [
    {
     "name": "stdout",
     "output_type": "stream",
     "text": [
      "\n",
      " The expected value of \"The\" distrivbution = 12.007142085205516  \n",
      "\n",
      "\n",
      " The expected value of \"In\" distrivbution = 7.459255872475821  \n",
      "\n"
     ]
    }
   ],
   "source": [
    "import math\n",
    "expected_value_the = 0 \n",
    "expected_value_in = 0 \n",
    "for k,v in dict_the_prob.items():\n",
    "    if(v==0):\n",
    "        continue\n",
    "    expected_value_the = expected_value_the + v * math.log(v,2)\n",
    "for k,v in dict_in_prob.items():\n",
    "    if(v==0):\n",
    "        continue\n",
    "    expected_value_in = expected_value_in + v * math.log(v,2)\n",
    "\n",
    "    \n",
    "    \n",
    "print(\"\\n The expected value of \\\"The\\\" distrivbution = \" +  str(-1 * expected_value_the) + \"  \\n\")\n",
    "print(\"\\n The expected value of \\\"In\\\" distrivbution = \" +  str(-1 * expected_value_in) + \"  \\n\")\n"
   ]
  },
  {
   "cell_type": "code",
   "execution_count": null,
   "metadata": {},
   "outputs": [],
   "source": []
  }
 ],
 "metadata": {
  "kernelspec": {
   "display_name": "Python 3",
   "language": "python",
   "name": "python3"
  },
  "language_info": {
   "codemirror_mode": {
    "name": "ipython",
    "version": 3
   },
   "file_extension": ".py",
   "mimetype": "text/x-python",
   "name": "python",
   "nbconvert_exporter": "python",
   "pygments_lexer": "ipython3",
   "version": "3.7.3"
  }
 },
 "nbformat": 4,
 "nbformat_minor": 2
}
